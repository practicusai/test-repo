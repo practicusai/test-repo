{
 "cells": [
  {
   "cell_type": "code",
   "execution_count": null,
   "id": "5885f5d5",
   "metadata": {},
   "outputs": [],
   "source": [
    "import pandas as pd \n",
    "\n",
    "df = pd.read_csv('data.csv')\n",
    "display(df.head())\n",
    "print('Total Rows: ', df.shape[0])"
   ]
  },
  {
   "cell_type": "code",
   "execution_count": null,
   "id": "bb38d3e3",
   "metadata": {},
   "outputs": [],
   "source": [
    "df_train = df.sample(frac=0.9, random_state=8429)\n",
    "df_unseen = df.drop(df_train.index)\n",
    "\n",
    "df_train.reset_index(drop=True, inplace=True)\n",
    "df_unseen.reset_index(drop=True, inplace=True)\n",
    "\n",
    "print('Samples for modeling:', df_train.shape[0], \"rows\")\n",
    "print('Samples of unseen data to test the model:', df_unseen.shape[0],  \"rows\")"
   ]
  },
  {
   "cell_type": "code",
   "execution_count": null,
   "id": "ec13c2eb",
   "metadata": {},
   "outputs": [],
   "source": [
    "from pycaret.classification import ClassificationExperiment, load_model, predict_model\n",
    "\n",
    "exp = ClassificationExperiment()"
   ]
  },
  {
   "cell_type": "code",
   "execution_count": null,
   "id": "b85565f2",
   "metadata": {},
   "outputs": [],
   "source": [
    "from practicuscore import configure_experiment\n",
    "\n",
    "experiment_name = 'Telco Customer Churn'\n",
    "configure_experiment(experiment_name=experiment_name, service_name='Mlflow (Primary)')"
   ]
  },
  {
   "cell_type": "code",
   "execution_count": null,
   "id": "a34b8485",
   "metadata": {},
   "outputs": [],
   "source": [
    "setup_params = {}"
   ]
  },
  {
   "cell_type": "code",
   "execution_count": null,
   "id": "72fd1d3b",
   "metadata": {},
   "outputs": [],
   "source": [
    "exp.setup(data=df_train, target='churn', session_id=8429, \n",
    "          log_experiment=True, experiment_name=experiment_name, **setup_params)"
   ]
  },
  {
   "cell_type": "code",
   "execution_count": null,
   "id": "ab82134e",
   "metadata": {},
   "outputs": [],
   "source": [
    "best_model = exp.compare_models()"
   ]
  },
  {
   "cell_type": "code",
   "execution_count": null,
   "id": "3a45fd7a",
   "metadata": {},
   "outputs": [],
   "source": [
    "# best_model = exp.create_model()"
   ]
  },
  {
   "cell_type": "code",
   "execution_count": null,
   "id": "c2318681",
   "metadata": {},
   "outputs": [],
   "source": [
    "tune_params = {}"
   ]
  },
  {
   "cell_type": "code",
   "execution_count": null,
   "id": "f01bcda3",
   "metadata": {},
   "outputs": [],
   "source": [
    "tuned_model = exp.tune_model(best_model, **tune_params)"
   ]
  },
  {
   "cell_type": "code",
   "execution_count": null,
   "id": "0b2e8c68",
   "metadata": {},
   "outputs": [],
   "source": [
    "final_model = exp.finalize_model(tuned_model)"
   ]
  },
  {
   "cell_type": "code",
   "execution_count": null,
   "id": "97169b81",
   "metadata": {},
   "outputs": [],
   "source": [
    "unseen_predictions = exp.predict_model(final_model, data=df_unseen)\n",
    "display(unseen_predictions)"
   ]
  },
  {
   "cell_type": "code",
   "execution_count": null,
   "id": "a57f7ef4",
   "metadata": {},
   "outputs": [],
   "source": [
    "exp.save_model(final_model, 'model')"
   ]
  },
  {
   "cell_type": "code",
   "execution_count": null,
   "id": "1cedec90",
   "metadata": {},
   "outputs": [],
   "source": [
    "loaded_model = load_model('model')\n",
    "\n",
    "unseen_predictions = predict_model(loaded_model, data=df_unseen)\n",
    "display(unseen_predictions)"
   ]
  },
  {
   "cell_type": "code",
   "execution_count": null,
   "id": "7e3b08de",
   "metadata": {},
   "outputs": [],
   "source": [
    "from practicuscore import DataPipeline\n",
    "dp = DataPipeline()\n",
    "\n",
    "host_url = 'https://practicus.company.com'\n",
    "email = 'user@company.com'\n",
    "prefix = 'models/my-team/test'\n",
    "deployment_key = 'some_deployment'\n",
    "model_name = 'my-model'\n",
    "model_dir = None  # Current dir"
   ]
  },
  {
   "cell_type": "code",
   "execution_count": null,
   "id": "4dc49736",
   "metadata": {},
   "outputs": [],
   "source": [
    "import getpass\n",
    "print('Password:')\n",
    "password = getpass.getpass()"
   ]
  },
  {
   "cell_type": "code",
   "execution_count": null,
   "id": "c6d7476e",
   "metadata": {},
   "outputs": [],
   "source": [
    "auth_token = dp.get_auth_token(host_url=host_url, email=email, password=password)\n",
    "print(f'{email} is authenticated' if auth_token else 'Authentication error. Please retry')"
   ]
  },
  {
   "cell_type": "code",
   "execution_count": null,
   "id": "0a7ac57e",
   "metadata": {},
   "outputs": [],
   "source": [
    "# Please verify that model.json is up to date, especially the model input fields\n",
    "\n",
    "dp.deploy_model(\n",
    "    host_url=host_url, email=email, auth_token=auth_token, deployment_key=deployment_key,\n",
    "    prefix=prefix, model_name=model_name, model_dir=model_dir\n",
    ")"
   ]
  }
 ],
 "metadata": {
  "kernelspec": {
   "display_name": "Python 3 (for ML)",
   "language": "python",
   "name": "practicus_ml"
  },
  "language_info": {
   "codemirror_mode": {
    "name": "ipython",
    "version": 3
   },
   "file_extension": ".py",
   "mimetype": "text/x-python",
   "name": "python",
   "nbconvert_exporter": "python",
   "pygments_lexer": "ipython3",
   "version": "3.10.12"
  }
 },
 "nbformat": 4,
 "nbformat_minor": 5
}
